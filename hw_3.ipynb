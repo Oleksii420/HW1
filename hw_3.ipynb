{
 "cells": [
  {
   "cell_type": "markdown",
   "metadata": {
    "id": "e5mobm6U07x-"
   },
   "source": [
    "## 1 Задача 1.3.12\n",
    "Знайти ймовiрнiсть того, що серед трьох цифр, кожна з яких вибрана навмання, буде лише 1, 2, 3 рiзних.\n",
    "\n",
    "Обчисліть теоретичну (повним перебором) та еміричну (симулюванням $100000$ експериментів) імовірності."
   ]
  },
  {
   "cell_type": "code",
   "metadata": {
    "collapsed": true,
    "id": "bJZTUSsr07x_",
    "ExecuteTime": {
     "end_time": "2025-05-31T09:27:56.822862Z",
     "start_time": "2025-05-31T09:27:56.644931Z"
    }
   },
   "source": [
    "import itertools\n",
    "import random as rm\n",
    "\n",
    "c_1 = 0\n",
    "c_2 = 0\n",
    "c_3 = 0\n",
    "\n",
    "for comb in itertools.product(range(10), repeat=3):\n",
    "    unique_digits = len(set(comb))\n",
    "    if unique_digits == 1:\n",
    "        c_1 += 1\n",
    "    elif unique_digits == 2:\n",
    "        c_2 += 1\n",
    "    elif unique_digits == 3:\n",
    "        c_3 += 1\n",
    "\n",
    "total = 10**3 \n",
    "print(\"\")\n",
    "print(f\"Probability of 1 unique digit = {c_1 / total}\")\n",
    "print(f\"Probability of 2 unique digits = {c_2 / total}\")\n",
    "print(f\"Probability of 3 unique digits = {c_3 / total}\")\n",
    "\n",
    "c_1 = 0\n",
    "c_2 = 0\n",
    "c_3 = 0\n",
    "\n",
    "EXP_COUNT = 100_000\n",
    "\n",
    "for _ in range(EXP_COUNT):\n",
    "    comb = set([rm.randint(0, 9), rm.randint(0, 9), rm.randint(0, 9)])\n",
    "    \n",
    "    unique_digits = len(comb)\n",
    "    if unique_digits == 1:\n",
    "        c_1 += 1\n",
    "    elif unique_digits == 2:\n",
    "        c_2 += 1\n",
    "    elif unique_digits == 3:\n",
    "        c_3 += 1\n",
    "        \n",
    "print(f\"Probability of 1 unique digit = {c_1 / EXP_COUNT}\")\n",
    "print(f\"Probability of 2 unique digits = {c_2 / EXP_COUNT}\")\n",
    "print(f\"Probability of 3 unique digits = {c_3 / EXP_COUNT}\")"
   ],
   "outputs": [
    {
     "name": "stdout",
     "output_type": "stream",
     "text": [
      "\n",
      "Probability of 1 unique digit = 0.01\n",
      "Probability of 2 unique digits = 0.27\n",
      "Probability of 3 unique digits = 0.72\n",
      "Probability of 1 unique digit = 0.01002\n",
      "Probability of 2 unique digits = 0.2683\n",
      "Probability of 3 unique digits = 0.72168\n"
     ]
    }
   ],
   "execution_count": 1
  },
  {
   "cell_type": "markdown",
   "metadata": {
    "id": "x0yEK8Tz07yB"
   },
   "source": [
    "# 2 Задача 1.3.14\n",
    "З послiдовностi чисел $1, 2, . . . , n$ вибирають навмання $k$ рiзних чисел.\n",
    "Яка ймовiрнiсть того, що:\n",
    "1. кожне з вибраних чисел кратне даному числу $p$;\n",
    "2. кожне з вибраних чисел кратне хоча б одному з двох взаємно простих чисел $p$ i $q$;\n",
    "3. серед вибраних чисел є хоча б одне кратне $p$?\n",
    "\n",
    "Напишіть  відповідні функції для обрахунку теоретичної (повним перебором) та еміричної (симулюванням $100000$ експериментів) імовірностей в залежності від параметрів $n, k, p, q$.\n",
    "Виведіть результат для\n",
    "- $n = 25, k = 5, p = 3, q = 4$;\n",
    "- $n = 25, k = 10, p = 3, q = 4$."
   ]
  },
  {
   "cell_type": "code",
   "metadata": {
    "collapsed": true,
    "id": "MVkPBwh307yC",
    "ExecuteTime": {
     "end_time": "2025-05-31T09:29:09.400466Z",
     "start_time": "2025-05-31T09:29:07.212357Z"
    }
   },
   "source": [
    "from itertools import combinations\n",
    "import random as rm\n",
    "\n",
    "EXP_COUNT = 100_000\n",
    "\n",
    "\n",
    "def all_mul_of_k(lst, p):\n",
    "    for el in lst:\n",
    "        if el % p != 0:\n",
    "            return 0\n",
    "    return 1\n",
    "\n",
    "def all_mul_of_p_or_q(lst, p, q):\n",
    "    for el in lst:\n",
    "        if el % p != 0 and el % q != 0:\n",
    "            return 0\n",
    "    return 1\n",
    "\n",
    "\n",
    "def exists_mul_of_p(lst, p):\n",
    "    for el in lst:\n",
    "        if el % p == 0:\n",
    "            return 1\n",
    "    return 0\n",
    "\n",
    "\n",
    "def prob1(n: int, k:int, p:int, q:int):\n",
    "    lst = [i for i in range(1, n + 1)]\n",
    "    comb_count = 0\n",
    "    p1 = 0\n",
    "    p2 = 0\n",
    "    p3 = 0\n",
    "    for comb in combinations(lst, k):\n",
    "        p1 += all_mul_of_k(comb, p)\n",
    "        p2 += all_mul_of_p_or_q(comb, p, q)\n",
    "        p3 += exists_mul_of_p(comb, p)\n",
    "        comb_count += 1\n",
    "    print(p1/comb_count)\n",
    "    print(p2/comb_count)\n",
    "    print(p3/comb_count)\n",
    "\n",
    "\n",
    "\n",
    "def prob2(n: int, k:int, p:int, q:int):\n",
    "    lst = [i for i in range(1, n + 1)]\n",
    "    comb_count = EXP_COUNT\n",
    "    p1 = 0\n",
    "    p2 = 0\n",
    "    p3 = 0\n",
    "    for _ in range(EXP_COUNT):\n",
    "        comb = rm.sample(lst, k)\n",
    "\n",
    "        p1 += all_mul_of_k(comb, p)\n",
    "        p2 += all_mul_of_p_or_q(comb, p, q)\n",
    "        p3 += exists_mul_of_p(comb, p)\n",
    "    print(p1/comb_count)\n",
    "    print(p2/comb_count)\n",
    "    print(p3/comb_count)\n",
    "    \n",
    "print(\"-----\")\n",
    "prob1(25, 5,3,4)\n",
    "print(\"-----\")\n",
    "prob2(25, 5,3,4)\n",
    "print(\"------\")\n",
    "prob1(25, 10, 3, 4)\n",
    "print(\"------\")\n",
    "prob2(25, 10, 3, 4)\n",
    "print(\"-------\")\n"
   ],
   "outputs": [
    {
     "name": "stdout",
     "output_type": "stream",
     "text": [
      "-----\n",
      "0.001054018445322793\n",
      "0.014906832298136646\n",
      "0.8835309617918313\n",
      "-----\n",
      "0.00098\n",
      "0.01465\n",
      "0.88288\n",
      "------\n",
      "0.0\n",
      "2.0191142818683536e-05\n",
      "0.9940503432494279\n",
      "------\n",
      "0.0\n",
      "1e-05\n",
      "0.99448\n",
      "-------\n"
     ]
    }
   ],
   "execution_count": 2
  },
  {
   "cell_type": "markdown",
   "metadata": {
    "id": "nr2geQ6J07yE"
   },
   "source": [
    "# 3 Задача 1.4.6\n",
    "В коморi знаходяться $n$ пар черевикiв.\n",
    "З них випадковим чином вибираються $2k$ черевикiв.\n",
    "Яка ймовiрнiсть того, що серед вибраних черевикiв:\n",
    "1. вiдсутнi парнi;\n",
    "2. є рiвно одна комплектна пара;\n",
    "3. є двi комплектнi пари?\n",
    "\n",
    "Напишіть  відповідні функції для обрахунку теоретичної (повним перебором) та еміричної (симулюванням $100000$ експериментів) імовірностей в залежності від параметрів $n, k$.\n",
    "Виведіть результат для\n",
    "- $n = 8, k = 4$;\n",
    "- $n = 13, k = 5$."
   ]
  },
  {
   "cell_type": "code",
   "metadata": {
    "collapsed": true,
    "id": "gbLZ14mx07yG",
    "ExecuteTime": {
     "end_time": "2025-05-31T09:30:20.381877Z",
     "start_time": "2025-05-31T09:30:06.630386Z"
    }
   },
   "source": [
    "from itertools import combinations\n",
    "import random as rm\n",
    "\n",
    "def is_even(num:int):\n",
    "    return num % 2 == 0\n",
    "\n",
    "def no_even(sorted_lst):\n",
    "    for i in range(len(sorted_lst) -1):\n",
    "        if sorted_lst[i+1] - sorted_lst[i] == 1 and is_even(sorted_lst[i]):\n",
    "            return 0\n",
    "    return 1\n",
    "\n",
    "def one_even(sorted_lst):\n",
    "    counter = 0\n",
    "    for i in range(len(sorted_lst) -1):\n",
    "        if sorted_lst[i+1] - sorted_lst[i] == 1 and is_even(sorted_lst[i]):\n",
    "            counter += 1\n",
    "    return counter == 1\n",
    "\n",
    "def two_even(sorted_lst):\n",
    "    counter = 0\n",
    "    for i in range(len(sorted_lst) - 1):\n",
    "        if sorted_lst[i+1] - sorted_lst[i] == 1 and is_even(sorted_lst[i]):\n",
    "            counter += 1\n",
    "    return counter == 2\n",
    "\n",
    "EXP_COUNT = 100_000\n",
    "\n",
    "def prob1(n:int, k:int):\n",
    "    lst = [i for i in range(2*n)]\n",
    "    p1 = 0\n",
    "    p2 = 0\n",
    "    p3 = 0\n",
    "    comb_count = 0\n",
    "    for comb in combinations(lst, 2*k):\n",
    "        comb = list(comb)\n",
    "        comb.sort()\n",
    "        p1 += no_even(comb)\n",
    "        p2 += one_even(comb)\n",
    "        p3 += two_even(comb)\n",
    "        comb_count += 1\n",
    "    print(p1/comb_count)\n",
    "    print(p2/comb_count)\n",
    "    print(p3/comb_count)\n",
    "\n",
    "def prob2(n:int, k:int):\n",
    "    lst = [i for i in range(2*n)]\n",
    "    p1 = 0\n",
    "    p2 = 0\n",
    "    p3 = 0\n",
    "    comb_count = 0\n",
    "    \n",
    "    for _ in range(EXP_COUNT):\n",
    "        comb = rm.sample(lst, 2*k)\n",
    "        comb.sort()\n",
    "        p1 += no_even(comb)\n",
    "        p2 += one_even(comb)\n",
    "        p3 += two_even(comb)\n",
    "        comb_count += 1\n",
    "    print(p1/comb_count)\n",
    "    print(p2/comb_count)\n",
    "    print(p3/comb_count)\n",
    "    \n",
    "print(\"-----\")\n",
    "prob1(8, 4)\n",
    "print(\"-----\")\n",
    "prob2(8, 4)\n",
    "print(\"-----\")\n",
    "prob1(13, 5)\n",
    "print(\"-----\")\n",
    "prob2(13, 5)\n",
    "print(\"-----\")"
   ],
   "outputs": [
    {
     "name": "stdout",
     "output_type": "stream",
     "text": [
      "-----\n",
      "0.01989121989121989\n",
      "0.2784770784770785\n",
      "0.5221445221445221\n",
      "-----\n",
      "0.01992\n",
      "0.27931\n",
      "0.52009\n",
      "-----\n",
      "0.05513528065688518\n",
      "0.31013595369497915\n",
      "0.4341903351729708\n",
      "-----\n",
      "0.05467\n",
      "0.31159\n",
      "0.43514\n",
      "-----\n"
     ]
    }
   ],
   "execution_count": 3
  },
  {
   "cell_type": "markdown",
   "metadata": {
    "id": "pFj62c8p07yH"
   },
   "source": [
    "# 4 Задача 1.2.15\n",
    "Нехай $\\Omega = {1, 2, \\ldots, 2n}$.\n",
    "Всiм числам приписанi ймовiрностi, пропорцiйнi логарифмам цих чисел.\n",
    "Знайти цi ймовiрностi.\n",
    "Знайти ймовiрнiсть того, що в результатi експерименту з’явиться:\n",
    "1. парне число;\n",
    "2. непарне число.\n",
    "\n",
    "Напишіть функцію для обрахунку еміричної (симулюванням $100000$ експериментів) імовірності в залежності від параметра $n$.\n",
    "Виведіть результат для\n",
    "- $n = 10$;\n",
    "- $n = 25$."
   ]
  },
  {
   "cell_type": "code",
   "metadata": {
    "collapsed": true,
    "id": "p50Ac9jj07yI",
    "ExecuteTime": {
     "end_time": "2025-05-31T09:30:39.916498Z",
     "start_time": "2025-05-31T09:30:39.645487Z"
    }
   },
   "source": [
    "import math\n",
    "from itertools import combinations\n",
    "import random as rm\n",
    "\n",
    "EXP_COUNT = 100_000\n",
    "\n",
    "\n",
    "def prob(n):\n",
    "    nums = [i for i in range(1, 2*n + 1)]\n",
    "    probs = [math.log(i) for i in range(1, 2*n + 1)]\n",
    "\n",
    "\n",
    "    even_count = 0\n",
    "    odd_count = 0\n",
    "    \n",
    "    for _ in range(EXP_COUNT):\n",
    "        num = rm.choices(nums, weights=probs, k=1)[0]\n",
    "        if num % 2 == 0:\n",
    "            even_count += 1\n",
    "        else:\n",
    "            odd_count += 1\n",
    "\n",
    "    print(even_count/EXP_COUNT)\n",
    "    print(odd_count/EXP_COUNT)\n",
    "\n",
    "\n",
    "prob(10)\n",
    "print(\"------\")\n",
    "prob(25)"
   ],
   "outputs": [
    {
     "name": "stdout",
     "output_type": "stream",
     "text": [
      "0.52064\n",
      "0.47936\n",
      "------\n",
      "0.50447\n",
      "0.49553\n"
     ]
    }
   ],
   "execution_count": 4
  }
 ],
 "metadata": {
  "kernelspec": {
   "display_name": "Python 3",
   "language": "python",
   "name": "python3"
  },
  "language_info": {
   "codemirror_mode": {
    "name": "ipython",
    "version": 3
   },
   "file_extension": ".py",
   "mimetype": "text/x-python",
   "name": "python",
   "nbconvert_exporter": "python",
   "pygments_lexer": "ipython3",
   "version": "3.6.1"
  },
  "colab": {
   "provenance": []
  }
 },
 "nbformat": 4,
 "nbformat_minor": 0
}
