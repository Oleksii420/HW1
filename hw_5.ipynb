{
 "cells": [
  {
   "cell_type": "markdown",
   "metadata": {
    "id": "q974EZ657M75"
   },
   "source": [
    "# Домашня робота №5"
   ]
  },
  {
   "cell_type": "markdown",
   "metadata": {
    "id": "pLXmTQFy7M78"
   },
   "source": [
    "# Математичне сподівання та дисперсія"
   ]
  },
  {
   "cell_type": "markdown",
   "metadata": {
    "id": "_8gs3J3S7M79"
   },
   "source": [
    "## 1 Порівняння"
   ]
  },
  {
   "cell_type": "markdown",
   "metadata": {
    "id": "eNxE8ht07M7_"
   },
   "source": [
    "1. Реалізуйте функцію для підрахунку математичного сподівання випадкової величини $\\xi$, заданої в класі **scipy.stats**, усіма можливими способами:\n",
    "   - за допомогою методу **mean**;\n",
    "   - за допомогою методу **expect**;\n",
    "   - за допомогою методу **stats**.\n",
    "\n",
    "2. Реалізуйте функцію для підрахунку дисперсії випадкової величини $\\xi$, заданої в класі **scipy.stats**, усіма можливими способами:\n",
    "   - за допомогою методу **var**;\n",
    "   - за допомогою методу **expect** та формули для дисперсії\n",
    "$\\mathsf{D}(\\xi) = \\mathsf{E} \\left[ \\left( \\xi - \\mathsf{E}[\\xi] \\right)^2 \\right]$;\n",
    "   - за допомогою методу **expect** та формули для дисперсії\n",
    "$\\mathsf{D}(\\xi) = \\mathsf{E}[\\xi^2] - \\left( \\mathsf{E}[\\xi] \\right)^2$;\n",
    "   - за допомогою методу **stats**.\n",
    "\n",
    "3. Порахуйте математичне сподівання та дисперсію, використовуючи функції з пунктів **1., 2.**, і порівняйте (виведіть різницю) їх із теоретичними значеннями, використовуючи формули з лекцій, для таких випадкових величин(оберіть 2 на вибір):\n",
    "   - $\\xi \\sim Binom(10, 0.4)$ (біноміальний розподіл);\n",
    "   - $\\xi \\sim Geom(0.5)$ (геометричний розподіл);\n",
    "   - $\\xi \\sim Pois(0.6)$ (розподіл Пуассона);\n",
    "   - $\\xi \\sim NBinom(5, 0.4)$ (від'ємний біноміальний розподіл);\n",
    "   - $\\xi \\sim HGeom(20, 7, 12)$ (гіпергеометричний розподіл);\n",
    "   - $\\xi \\sim Unif(0, 1)$ (рівномірний розподіл);\n",
    "   - $\\xi \\sim Exp(0.5)$ (експоненційний (показниковий) розподіл);\n",
    "   - $\\xi \\sim N(0, 1)$ (нормальний розподіл);\n",
    "   - $\\xi \\sim \\Gamma(2)$ (гамма розподіл);\n",
    "   - $\\xi \\sim LogNorm(0, 1)$ (логнормальний розподіл);\n",
    "   - $\\xi \\sim B(2, 1.1)$ (бета розподіл)."
   ]
  },
  {
   "cell_type": "code",
   "metadata": {
    "collapsed": true,
    "id": "abNr1TcH7M8A",
    "ExecuteTime": {
     "end_time": "2025-05-31T09:50:12.678397Z",
     "start_time": "2025-05-31T09:50:12.075271Z"
    }
   },
   "source": [
    "from scipy.stats import binom, expon\n",
    "\n",
    "\n",
    "def compute_expectation(rv):\n",
    "    m1 = rv.mean()\n",
    "    m2 = rv.expect(lambda x: x)\n",
    "    m3 = rv.stats(moments='m')\n",
    "    return {'mean': m1, 'expect': m2, 'stats': m3}\n",
    "\n",
    "def compute_variance(rv):\n",
    "    m = rv.mean()\n",
    "    v1 = rv.var()\n",
    "    v2 = rv.expect(lambda x: (x - m)**2)\n",
    "    v3 = rv.expect(lambda x: x**2) - m**2\n",
    "    v4 = rv.stats(moments='v')\n",
    "    return {'var': v1, 'expect1': v2, 'expect2': v3, 'stats': v4}\n",
    "\n",
    "\n",
    "rv_bin = binom(n=10, p=0.4)\n",
    "\n",
    "theo_bin_mean = 10 * 0.4\n",
    "theo_bin_var  = 10 * 0.4 * 0.6\n",
    "\n",
    "res_bin_exp = compute_expectation(rv_bin)\n",
    "res_bin_var = compute_variance(rv_bin)\n",
    "\n",
    "print(\"=== Binomial(10,0.4) ===\")\n",
    "print(\" E[X] methods:\", res_bin_exp)\n",
    "print(\" теор. E[X] =\", theo_bin_mean,\n",
    "      \" delta =\", {k: res_bin_exp[k] - theo_bin_mean for k in res_bin_exp})\n",
    "print(\" Var[X] methods:\", res_bin_var)\n",
    "print(\" теор. Var[X] =\", theo_bin_var,\n",
    "      \" delta =\", {k: res_bin_var[k] - theo_bin_var for k in res_bin_var})\n",
    "\n",
    "\n",
    "lam = 0.5\n",
    "rv_exp = expon(scale=1/lam, loc=0)\n",
    "\n",
    "theo_exp_mean = 1/lam\n",
    "theo_exp_var  = 1/(lam**2)\n",
    "\n",
    "res_exp_exp = compute_expectation(rv_exp)\n",
    "res_exp_var = compute_variance(rv_exp)\n",
    "\n",
    "print(\"\\n=== Exponential(λ=0.5) ===\")\n",
    "print(\" E[X] methods:\", res_exp_exp)\n",
    "print(\" теор. E[X] =\", theo_exp_mean,\n",
    "      \" delta =\", {k: res_exp_exp[k] - theo_exp_mean for k in res_exp_exp})\n",
    "print(\" Var[X] methods:\", res_exp_var)\n",
    "print(\" теор. Var[X] =\", theo_exp_var,\n",
    "      \" delta =\", {k: res_exp_var[k] - theo_exp_var for k in res_exp_var})"
   ],
   "outputs": [
    {
     "name": "stdout",
     "output_type": "stream",
     "text": [
      "=== Binomial(10,0.4) ===\n",
      " E[X] methods: {'mean': np.float64(4.0), 'expect': np.float64(4.0), 'stats': np.float64(4.0)}\n",
      " теор. E[X] = 4.0  delta = {'mean': np.float64(0.0), 'expect': np.float64(0.0), 'stats': np.float64(0.0)}\n",
      " Var[X] methods: {'var': np.float64(2.4), 'expect1': np.float64(2.399999999999999), 'expect2': np.float64(2.4000000000000057), 'stats': np.float64(2.4)}\n",
      " теор. Var[X] = 2.4  delta = {'var': np.float64(0.0), 'expect1': np.float64(-8.881784197001252e-16), 'expect2': np.float64(5.773159728050814e-15), 'stats': np.float64(0.0)}\n",
      "\n",
      "=== Exponential(λ=0.5) ===\n",
      " E[X] methods: {'mean': np.float64(2.0), 'expect': np.float64(2.0000000000000004), 'stats': np.float64(2.0)}\n",
      " теор. E[X] = 2.0  delta = {'mean': np.float64(0.0), 'expect': np.float64(4.440892098500626e-16), 'stats': np.float64(0.0)}\n",
      " Var[X] methods: {'var': np.float64(4.0), 'expect1': np.float64(4.000000000000002), 'expect2': np.float64(4.0000000000000036), 'stats': np.float64(4.0)}\n",
      " теор. Var[X] = 4.0  delta = {'var': np.float64(0.0), 'expect1': np.float64(1.7763568394002505e-15), 'expect2': np.float64(3.552713678800501e-15), 'stats': np.float64(0.0)}\n"
     ]
    }
   ],
   "execution_count": 1
  },
  {
   "cell_type": "markdown",
   "metadata": {
    "id": "m_VxST4Z7M8P"
   },
   "source": [
    "## 2 Унікальні цифри"
   ]
  },
  {
   "cell_type": "markdown",
   "metadata": {
    "id": "UXxueiRo7M8Q"
   },
   "source": [
    "Нехай випадковим чином вибирають послідовно $n$ цифр (цифри можуть повторюватися, вибірка з поверненням).\n",
    "Нехай тоді випадкова величина $\\xi$ - це кількість унікальних цифр в отриманому наборі.\n",
    "\n",
    "Напишіть функцію для обрахунку математичного сподівання та дисперсії випадкової величини $\\xi$ в залежності від кількості $n$ цифр у наборі методом повного перебору.\n",
    "Виведіть результат для $n = 1, 2, 3, 4, 5, 6, 7.$"
   ]
  },
  {
   "cell_type": "code",
   "metadata": {
    "collapsed": true,
    "id": "m922JuJk7M8Q",
    "ExecuteTime": {
     "end_time": "2025-05-31T09:52:01.253698Z",
     "start_time": "2025-05-31T09:52:01.240756Z"
    }
   },
   "source": [
    "from math import comb\n",
    "\n",
    "def uniq_stats(n):\n",
    "    E = 0\n",
    "    E2 = 0\n",
    "    for k in range(1, 11):\n",
    "        A = comb(10, k) * sum([ (-1)**i * comb(k, i) * (k - i)**n for i in range(0, k+1) ])\n",
    "        E  += k     * A\n",
    "        E2 += k**2  * A\n",
    "    E  = E / 10**n\n",
    "    E2 = E2 / 10**n\n",
    "    D  = E2 - E**2\n",
    "    return (E, D)\n",
    "\n",
    "for n in range(1, 8):\n",
    "    E, D = uniq_stats(n)\n",
    "    print(f\"n = {n}:  E[xsi] = {E:.4f},  D(xsi) = {D:.4f}\")\n"
   ],
   "outputs": [
    {
     "name": "stdout",
     "output_type": "stream",
     "text": [
      "n = 1:  E[xsi] = 1.0000,  D(xsi) = 0.0000\n",
      "n = 2:  E[xsi] = 1.9000,  D(xsi) = 0.0900\n",
      "n = 3:  E[xsi] = 2.7100,  D(xsi) = 0.2259\n",
      "n = 4:  E[xsi] = 3.4390,  D(xsi) = 0.3783\n",
      "n = 5:  E[xsi] = 4.0951,  D(xsi) = 0.5283\n",
      "n = 6:  E[xsi] = 4.6856,  D(xsi) = 0.6644\n",
      "n = 7:  E[xsi] = 5.2170,  D(xsi) = 0.7805\n"
     ]
    }
   ],
   "execution_count": 4
  },
  {
   "cell_type": "markdown",
   "metadata": {
    "id": "yNYille67M8V"
   },
   "source": [
    "## 3 Парадокс днів народження"
   ]
  },
  {
   "cell_type": "markdown",
   "metadata": {
    "id": "DRtqj9Lt7M8W"
   },
   "source": [
    "Нехай маємо $n$ людей.\n",
    "Їх дні народження припадають на один з 12 місяців.\n",
    "Нехай тоді випадкова величина $\\xi$ - це кількість співпадінь місяців народжень серед цих $n$ людей.\n",
    "\n",
    "Напишіть функцію для обрахунку математичного сподівання та дисперсії випадкової величини $\\xi$ в залежності від кількості $n$ людей методом повного перебору.\n",
    "Виведіть результат для $n = 1, 2, 3, 4, 5, 6.$\n",
    "\n",
    "Для якого $n$ виконується $\\mathsf{E}\\left[ \\xi \\right] \\geq 1$?\n",
    "\n",
    "**Зауваження.** Кількість співпадінь означає кількість однакових пар. Наприклад,\n",
    "- у наборі $\\{ 1, 1, 2, 3 \\}$ є одна пара;\n",
    "- у наборі $\\{ 1, 1, 1, 3 \\}$ є три пари;\n",
    "- у наборі $\\{ 1, 1, 1, 1 \\}$ є шість пар."
   ]
  },
  {
   "cell_type": "code",
   "metadata": {
    "collapsed": true,
    "id": "RZRYIjCX7M8W",
    "ExecuteTime": {
     "end_time": "2025-05-31T09:52:29.707076Z",
     "start_time": "2025-05-31T09:52:25.122684Z"
    }
   },
   "source": [
    "import itertools\n",
    "\n",
    "def birthday_stats(n):\n",
    "    total = 12**n\n",
    "    S = 0       \n",
    "    S2 = 0      \n",
    "    for seq in itertools.product(range(1,13), repeat=n):\n",
    "        pairs = sum(1 for i in range(n) for j in range(i+1,n) if seq[i]==seq[j])\n",
    "        S  += pairs\n",
    "        S2 += pairs*pairs\n",
    "    E   = S  / total\n",
    "    D = S2 / total - E*E\n",
    "    return E, D\n",
    "\n",
    "\n",
    "for n in range(1,7):\n",
    "    E, D = birthday_stats(n)\n",
    "    print(f\"n = {n}:   E[xsi]={float(E)},   D(xsi)={float(D)}\")"
   ],
   "outputs": [
    {
     "name": "stdout",
     "output_type": "stream",
     "text": [
      "n = 1:   E[xsi]=0.0,   D(xsi)=0.0\n",
      "n = 2:   E[xsi]=0.08333333333333333,   D(xsi)=0.07638888888888888\n",
      "n = 3:   E[xsi]=0.25,   D(xsi)=0.22916666666666669\n",
      "n = 4:   E[xsi]=0.5,   D(xsi)=0.45833333333333337\n",
      "n = 5:   E[xsi]=0.8333333333333334,   D(xsi)=0.7638888888888887\n",
      "n = 6:   E[xsi]=1.25,   D(xsi)=1.1458333333333335\n"
     ]
    }
   ],
   "execution_count": 5
  }
 ],
 "metadata": {
  "kernelspec": {
   "display_name": "Python 3",
   "language": "python",
   "name": "python3"
  },
  "language_info": {
   "codemirror_mode": {
    "name": "ipython",
    "version": 3
   },
   "file_extension": ".py",
   "mimetype": "text/x-python",
   "name": "python",
   "nbconvert_exporter": "python",
   "pygments_lexer": "ipython3",
   "version": "3.6.1"
  },
  "colab": {
   "provenance": []
  }
 },
 "nbformat": 4,
 "nbformat_minor": 0
}
