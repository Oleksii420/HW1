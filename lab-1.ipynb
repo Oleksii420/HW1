{
 "cells": [
  {
   "cell_type": "markdown",
   "metadata": {
    "id": "GtmnoFFGxfrk"
   },
   "source": [
    "# Лабораторне заняття №1"
   ]
  },
  {
   "cell_type": "markdown",
   "metadata": {
    "id": "akl-H7qCxfrr"
   },
   "source": [
    "## 1 Перестановки"
   ]
  },
  {
   "cell_type": "markdown",
   "metadata": {
    "id": "bARlE_Qcxfrs"
   },
   "source": [
    "### 1.1 Використовуючи власну функцію"
   ]
  },
  {
   "cell_type": "code",
   "execution_count": 1,
   "metadata": {
    "collapsed": true,
    "id": "NZM9eEOPxfrs",
    "executionInfo": {
     "status": "ok",
     "timestamp": 1737369225358,
     "user_tz": -120,
     "elapsed": 543,
     "user": {
      "displayName": "Олена Дегтяр",
      "userId": "02379196706787407849"
     }
    }
   },
   "outputs": [],
   "source": [
    "def permute(A):\n",
    "    if len(A)==1:\n",
    "        return [tuple(A)]\n",
    "    permutations = []\n",
    "    for x in A:\n",
    "        for y in permute(A-{x}):\n",
    "            permutations.append((x,)+y)\n",
    "    return permutations"
   ]
  },
  {
   "cell_type": "code",
   "execution_count": 2,
   "metadata": {
    "collapsed": true,
    "id": "MYVa_mjzxfrv",
    "executionInfo": {
     "status": "ok",
     "timestamp": 1737369225816,
     "user_tz": -120,
     "elapsed": 22,
     "user": {
      "displayName": "Олена Дегтяр",
      "userId": "02379196706787407849"
     }
    }
   },
   "outputs": [],
   "source": [
    "A = {1, 2, 3}"
   ]
  },
  {
   "cell_type": "code",
   "execution_count": 3,
   "metadata": {
    "colab": {
     "base_uri": "https://localhost:8080/"
    },
    "id": "mf16ji0pxfrw",
    "executionInfo": {
     "status": "ok",
     "timestamp": 1737369225819,
     "user_tz": -120,
     "elapsed": 23,
     "user": {
      "displayName": "Олена Дегтяр",
      "userId": "02379196706787407849"
     }
    },
    "outputId": "bacabb34-7b30-405a-d53e-446974a99ce4"
   },
   "outputs": [
    {
     "output_type": "stream",
     "name": "stdout",
     "text": [
      "Перестановки множини {1, 2, 3}: {(1, 3, 2), (1, 2, 3), (2, 1, 3), (3, 2, 1), (3, 1, 2), (2, 3, 1)}\n",
      "Кількість перестановок:  6\n"
     ]
    }
   ],
   "source": [
    "# Використовуючи власну функцію\n",
    "permute_all = set(permute(A))\n",
    "print(\"Перестановки множини {}: {}\".format(A,permute_all))\n",
    "print(\"Кількість перестановок: \", len(permute_all))"
   ]
  },
  {
   "cell_type": "markdown",
   "metadata": {
    "id": "BVHuo6LCxfrx"
   },
   "source": [
    "### 1.2 Використовуючи бібліотеку `itertools`"
   ]
  },
  {
   "cell_type": "code",
   "execution_count": 4,
   "metadata": {
    "collapsed": true,
    "id": "fAVymihexfry",
    "executionInfo": {
     "status": "ok",
     "timestamp": 1737369240522,
     "user_tz": -120,
     "elapsed": 398,
     "user": {
      "displayName": "Олена Дегтяр",
      "userId": "02379196706787407849"
     }
    }
   },
   "outputs": [],
   "source": [
    "from itertools import permutations"
   ]
  },
  {
   "cell_type": "code",
   "execution_count": 5,
   "metadata": {
    "collapsed": true,
    "id": "6oK1QNntxfry",
    "executionInfo": {
     "status": "ok",
     "timestamp": 1737369242633,
     "user_tz": -120,
     "elapsed": 383,
     "user": {
      "displayName": "Олена Дегтяр",
      "userId": "02379196706787407849"
     }
    }
   },
   "outputs": [],
   "source": [
    "A = {1, 2, 3}"
   ]
  },
  {
   "cell_type": "code",
   "execution_count": 6,
   "metadata": {
    "colab": {
     "base_uri": "https://localhost:8080/"
    },
    "id": "p74wyA2vxfrz",
    "executionInfo": {
     "status": "ok",
     "timestamp": 1737369246166,
     "user_tz": -120,
     "elapsed": 305,
     "user": {
      "displayName": "Олена Дегтяр",
      "userId": "02379196706787407849"
     }
    },
    "outputId": "40979a13-3757-485a-f0a8-0f642fba43be"
   },
   "outputs": [
    {
     "output_type": "stream",
     "name": "stdout",
     "text": [
      "Перестановки множини {1, 2, 3}: {(1, 3, 2), (1, 2, 3), (2, 1, 3), (3, 2, 1), (3, 1, 2), (2, 3, 1)}\n",
      "Кількість перестановок:  6\n"
     ]
    }
   ],
   "source": [
    "# Використовуючи бібліотеку itertools\n",
    "permute_all = set(permutations(A))\n",
    "print(\"Перестановки множини {}: {}\".format(A,permute_all))\n",
    "print(\"Кількість перестановок: \", len(permute_all))"
   ]
  },
  {
   "cell_type": "markdown",
   "source": [],
   "metadata": {
    "id": "HydrklbDzCFT"
   }
  },
  {
   "cell_type": "markdown",
   "metadata": {
    "id": "LnrGkgc4xfr0"
   },
   "source": [
    "### 1.3 Задача\n",
    "Виведіть всі можливі перестановки та порахуйте їх кількість від таких множин:\n",
    "- {1, 3, 5}\n",
    "- {1, 2, 3, 4}\n",
    "- {1, 2, 2, 1}\n",
    "\n",
    "\n",
    "**Зауваження.** Спробуйте задати множину $\\{1, 2, 2, 1\\}$ у вигляді списку, тобто $A = [1, 2, 2, 1]$."
   ]
  },
  {
   "cell_type": "code",
   "execution_count": 19,
   "metadata": {
    "id": "nSHtgVbixfr0",
    "executionInfo": {
     "status": "ok",
     "timestamp": 1737311195755,
     "user_tz": -120,
     "elapsed": 206,
     "user": {
      "displayName": "Олена Дегтяр",
      "userId": "02379196706787407849"
     }
    }
   },
   "outputs": [],
   "source": [
    "# Аудиторна задача\n",
    "from itertools import permutations\n",
    "set1 = [1, 3, 5]\n",
    "set2 = [1, 2, 3, 4]\n",
    "set3  =[1, 2, 2, 1]\n",
    "set3_2 = (1, 2)\n",
    "def printer(lists):\n",
    "    permutations_all = set(permutations(lists))\n",
    "    print(permutations_all)\n",
    "    print(len(permutations_all))\n",
    "printer(set1)\n",
    "printer(set2)\n",
    "printer(set3)\n",
    "printer(set3_2)"
   ]
  },
  {
   "cell_type": "markdown",
   "metadata": {
    "id": "Cx0tRgPpxfr1"
   },
   "source": [
    "### 1.4 Задача\n",
    "Виведіть всі можливі перестановки без нерухомих точок та порахуйте їх кількість від таких множин:\n",
    "- {1, 2, 3}\n",
    "- {1, 2, 3, 4}\n",
    "- {1, 3, 5, 7}\n",
    "- {1, 2, 2, 1}\n",
    "\n",
    "_Перестановка без нерухомих точок_ - це така перестановка, в якій позиція кожного елементу не збігається з його позицією в початковій множині.\n",
    "**Приклад.** Для множини {1, 2, 3, 4, 5}:\n",
    "- {4, 1, 5, 2, 3} - перестановка без нерухомих точок\n",
    "- {4, **2**, 1, 3, **5**} - перестановка з нерухомими точками"
   ]
  },
  {
   "metadata": {
    "ExecuteTime": {
     "end_time": "2025-02-03T15:43:56.317149Z",
     "start_time": "2025-02-03T15:43:56.093774Z"
    }
   },
   "cell_type": "code",
   "source": [
    "set1 = (1, 2, 3)\n",
    "set2 = (1, 2, 3, 4)\n",
    "set3 =  (1, 3, 5, 7)\n",
    "set4 = [1, 2, 2, 1]\n",
    "\n",
    "\n",
    "def printer(elements):\n",
    "    output = []\n",
    "    for perm in set(permutations(elements)):\n",
    "        if all(perm[i] != elements[i] for i in range(len(elements))):\n",
    "            output.append(perm)\n",
    "    print(output)\n",
    "    print(f\"amount = {len(output)}\")\n",
    "\n",
    "for set_ in [set1, set2, set3, set4]:\n",
    "    printer(set_)"
   ],
   "outputs": [
    {
     "ename": "NameError",
     "evalue": "name 'permutations' is not defined",
     "output_type": "error",
     "traceback": [
      "\u001B[0;31m---------------------------------------------------------------------------\u001B[0m",
      "\u001B[0;31mNameError\u001B[0m                                 Traceback (most recent call last)",
      "Cell \u001B[0;32mIn[1], line 16\u001B[0m\n\u001B[1;32m     13\u001B[0m     \u001B[38;5;28mprint\u001B[39m(\u001B[38;5;124mf\u001B[39m\u001B[38;5;124m\"\u001B[39m\u001B[38;5;124mamount = \u001B[39m\u001B[38;5;132;01m{\u001B[39;00m\u001B[38;5;28mlen\u001B[39m(output)\u001B[38;5;132;01m}\u001B[39;00m\u001B[38;5;124m\"\u001B[39m)\n\u001B[1;32m     15\u001B[0m \u001B[38;5;28;01mfor\u001B[39;00m set_ \u001B[38;5;129;01min\u001B[39;00m [set1, set2, set3, set4]:\n\u001B[0;32m---> 16\u001B[0m     \u001B[43mprinter\u001B[49m\u001B[43m(\u001B[49m\u001B[43mset_\u001B[49m\u001B[43m)\u001B[49m\n",
      "Cell \u001B[0;32mIn[1], line 9\u001B[0m, in \u001B[0;36mprinter\u001B[0;34m(elements)\u001B[0m\n\u001B[1;32m      7\u001B[0m \u001B[38;5;28;01mdef\u001B[39;00m\u001B[38;5;250m \u001B[39m\u001B[38;5;21mprinter\u001B[39m(elements):\n\u001B[1;32m      8\u001B[0m     output \u001B[38;5;241m=\u001B[39m []\n\u001B[0;32m----> 9\u001B[0m     \u001B[38;5;28;01mfor\u001B[39;00m perm \u001B[38;5;129;01min\u001B[39;00m \u001B[38;5;28mset\u001B[39m(\u001B[43mpermutations\u001B[49m(elements)):\n\u001B[1;32m     10\u001B[0m         \u001B[38;5;28;01mif\u001B[39;00m \u001B[38;5;28mall\u001B[39m(perm[i] \u001B[38;5;241m!=\u001B[39m elements[i] \u001B[38;5;28;01mfor\u001B[39;00m i \u001B[38;5;129;01min\u001B[39;00m \u001B[38;5;28mrange\u001B[39m(\u001B[38;5;28mlen\u001B[39m(elements))):\n\u001B[1;32m     11\u001B[0m             output\u001B[38;5;241m.\u001B[39mappend(perm)\n",
      "\u001B[0;31mNameError\u001B[0m: name 'permutations' is not defined"
     ]
    }
   ],
   "execution_count": 1
  },
  {
   "cell_type": "markdown",
   "metadata": {
    "id": "SVUOVqwDxfr3"
   },
   "source": [
    "### 1.5 Задача\n",
    "Виведіть всі можливі перестановки, в яких перші $4$ елементи зростають, а наступні спадають, та порахуйте їх кількість від таких множин:\n",
    "- {1, 2, 3, 4, 5, 6, 7, 8}\n",
    "- {1, 2, 3, 4, 5, 6, 7, 8, 9, 10}\n",
    "\n",
    "**Зауваження.** Нехай перестановка\n",
    "$\\pi = \\left( \\sigma_1, \\sigma_2, \\sigma_3, \\sigma_4, \\sigma_5, \\sigma_6, \\sigma_7, \\sigma_8 \\right)$.\n",
    "Тоді має виконуватися така умова:\n",
    "$$\n",
    "  \\sigma_1 < \\sigma_2 < \\sigma_3 < \\sigma_4 > \\sigma_5 > \\sigma_6 > \\sigma_7 > \\sigma_8.\n",
    "$$"
   ]
  },
  {
   "cell_type": "code",
   "execution_count": 21,
   "metadata": {
    "id": "uMEDMjiNxfr4",
    "executionInfo": {
     "status": "ok",
     "timestamp": 1737311221397,
     "user_tz": -120,
     "elapsed": 211,
     "user": {
      "displayName": "Олена Дегтяр",
      "userId": "02379196706787407849"
     }
    }
   },
   "outputs": [],
   "source": [
    "from itertools import permutations\n",
    "\n",
    "def valid_permutation(perm):\n",
    "    return all(perm[i] < perm[i + 1] for i in range(3)) and all(perm[i] > perm[i + 1] for i in range(4, len(perm) - 1))\n",
    "\n",
    "def printer(elements):\n",
    "    output = [perm for perm in permutations(elements) if valid_permutation(perm)]\n",
    "    print(output)\n",
    "    print(f\"amount = {len(output)}\")\n",
    "\n",
    "set1 = (1, 2, 3, 4, 5, 6, 7, 8)\n",
    "set2 = (1, 2, 3, 4, 5, 6, 7, 8, 9, 10)\n",
    "\n",
    "for set_ in [set1, set2]:\n",
    "    printer(set_)\n"
   ]
  },
  {
   "cell_type": "markdown",
   "metadata": {
    "id": "GiBp9y_Vxfr5"
   },
   "source": [
    "## 2 Часткові перестановки"
   ]
  },
  {
   "cell_type": "markdown",
   "metadata": {
    "id": "1sEdHFb0xfr6"
   },
   "source": [
    "### 2.1 Використовуючи бібліотеку `itertools`"
   ]
  },
  {
   "cell_type": "code",
   "execution_count": null,
   "metadata": {
    "collapsed": true,
    "id": "t3fP-wPixfr6"
   },
   "outputs": [],
   "source": [
    "A = {1, 2, 3}\n",
    "k = 2"
   ]
  },
  {
   "cell_type": "code",
   "execution_count": null,
   "metadata": {
    "id": "tNFBm6urxfr7"
   },
   "outputs": [],
   "source": [
    "# перестановки довжини k множини A\n",
    "permute_k = list(permutations(A, k))\n",
    "print(\"Перестановки довжини {} множини {}: {}\".format(k,A,permute_k))\n",
    "print(\"Кількість таких перестановок: {}\".format(len(permute_k)))"
   ]
  },
  {
   "cell_type": "markdown",
   "metadata": {
    "id": "RSCT33Lpxfr7"
   },
   "source": [
    "### 2.2 Задача\n",
    "Нехай $n$ - розмір множини, $k$ - розмір перестановок.\n",
    "Виведіть всі можливі часткові перестановки та порахуйте їх кількість для таких параметрів:\n",
    "- $n = 4, k = 2$\n",
    "- $n = 4, k = 3$\n",
    "- $n = 5, k = 2$"
   ]
  },
  {
   "cell_type": "code",
   "execution_count": 23,
   "metadata": {
    "id": "80zIpGe2xfr8",
    "executionInfo": {
     "status": "ok",
     "timestamp": 1737311453916,
     "user_tz": -120,
     "elapsed": 213,
     "user": {
      "displayName": "Олена Дегтяр",
      "userId": "02379196706787407849"
     }
    }
   },
   "outputs": [],
   "source": [
    "# Аудиторна задача\n",
    "A = {1, 2, 3, 4}\n",
    "k = 2\n",
    "permute_k = list(permutations(A, k))\n",
    "print(\"Перестановки довжини {} множини {}: {}\".format(k,A,permute_k))\n",
    "print(\"Кількість таких перестановок: {}\".format(len(permute_k)))\n",
    "B = {1, 2, 3, 4}\n",
    "m = 3\n",
    "permute_m = list(permutations(B, m))\n",
    "print(\"Перестановки довжини {} множини {}: {}\".format(m,B,permute_m))\n",
    "print(\"Кількість таких перестановок: {}\".format(len(permute_m)))\n",
    "C = {1, 2, 3, 4, 5}\n",
    "n = 2\n",
    "permute_n = list(permutations(C, n))\n",
    "print(\"Перестановки довжини {} множини {}: {}\".format(n,C,permute_n))\n",
    "print(\"Кількість таких перестановок: {}\".format(len(permute_n))"
   ]
  },
  {
   "cell_type": "markdown",
   "metadata": {
    "id": "a_PINwOnxfr9"
   },
   "source": [
    "## 3 Комбінації без повторень"
   ]
  },
  {
   "cell_type": "markdown",
   "metadata": {
    "id": "5cjjYUGMxfr9"
   },
   "source": [
    "### 3.1 Використовуючи бібліотеку `itertools`"
   ]
  },
  {
   "cell_type": "code",
   "execution_count": null,
   "metadata": {
    "collapsed": true,
    "id": "HBl7bNJzxfr-"
   },
   "outputs": [],
   "source": [
    "from itertools import combinations"
   ]
  },
  {
   "cell_type": "code",
   "execution_count": null,
   "metadata": {
    "collapsed": true,
    "id": "w6x47f1oxfr-"
   },
   "outputs": [],
   "source": [
    "A = {1, 2, 3}\n",
    "k = 2"
   ]
  },
  {
   "cell_type": "code",
   "execution_count": null,
   "metadata": {
    "id": "yq-ZXD40xfr_"
   },
   "outputs": [],
   "source": [
    "# комбінації довжини k множини A\n",
    "choose_k = list(combinations(A,k))\n",
    "print(\"Комбінації довжини {} множини {}: {}\".format(k,A,choose_k))\n",
    "print(\"Кількість таких комбінацій: {}\".format(len(choose_k)  ))"
   ]
  },
  {
   "cell_type": "markdown",
   "metadata": {
    "id": "Mh8pMxMCxfr_"
   },
   "source": [
    "### 3.2 Задача\n",
    "Нехай $n$ - розмір множини, $k$ - розмір комбінацій.\n",
    "Виведіть всі можливі комбінації без повторень та порахуйте їх кількість для таких параметрів:\n",
    "- $n = 4, k = 2$\n",
    "- $n = 4, k = 3$\n",
    "- $n = 5, k = 2$"
   ]
  },
  {
   "cell_type": "code",
   "execution_count": 24,
   "metadata": {
    "id": "iKk0ZgDDxfsA",
    "executionInfo": {
     "status": "ok",
     "timestamp": 1737311600992,
     "user_tz": -120,
     "elapsed": 408,
     "user": {
      "displayName": "Олена Дегтяр",
      "userId": "02379196706787407849"
     }
    }
   },
   "outputs": [],
   "source": [
    "# Аудиторна задача\n",
    "A = [i for i in range(1,5)]\n",
    "k = 2\n",
    "choose_k = list(combinations(A,k))\n",
    "print(\"Комбінації довжини {} множини {}: {}\".format(k,A,choose_k))\n",
    "print(\"Кількість таких комбінацій: {}\".format(len(choose_k)  ))\n",
    "A = [i for i in range(1,5)]\n",
    "k = 3\n",
    "choose_k = list(combinations(A,k))\n",
    "print(\"Комбінації довжини {} множини {}: {}\".format(k,A,choose_k))\n",
    "print(\"Кількість таких комбінацій: {}\".format(len(choose_k)  ))\n",
    "A = [i for i in range(1,6)]\n",
    "k = 2\n",
    "choose_k = list(combinations(A,k))\n",
    "print(\"Комбінації довжини {} множини {}: {}\".format(k,A,choose_k))\n",
    "print(\"Кількість таких комбінацій: {}\".format(len(choose_k)  ))"
   ]
  },
  {
   "cell_type": "markdown",
   "metadata": {
    "id": "UBe8BeYAxfsA"
   },
   "source": [
    "### 3.3 Задача\n",
    "Нехай $A$ - множина з $10$ елементів, кожен з яких є цілим числом від $1$ до $20$.\n",
    "Тобто $$A = \\{ a_i \\}_{i = 1}^{10},\\\\ 1 \\leq a_i \\leq 20, \\quad i = 1, \\ldots, 10.$$\n",
    "Скільки елементів може бути в множині, яка складається із попарних сум елементів множини $A$?\n",
    "$$B = \\{ b_k \\, \\colon \\, b_k = a_i + a_j, \\quad a_i, a_j \\in A, \\, 1 \\leq i, j \\leq 10, \\, i \\neq j \\}_{k = 1}^{\\textbf{?}}$$"
   ]
  },
  {
   "cell_type": "code",
   "execution_count": 26,
   "metadata": {
    "id": "cedvGf4_xfsB",
    "executionInfo": {
     "status": "ok",
     "timestamp": 1737311651928,
     "user_tz": -120,
     "elapsed": 227,
     "user": {
      "displayName": "Олена Дегтяр",
      "userId": "02379196706787407849"
     }
    }
   },
   "outputs": [],
   "source": [
    "# Домашнє завдання, Задача 3\n",
    "from itertools import combinations\n",
    "\n",
    "def max_unique_sums():\n",
    "    A = set(range(1, 21))\n",
    "    max_size = 0\n",
    "    best_B = set()\n",
    "    \n",
    "    for subset in combinations(A, 10):\n",
    "        B = {x + y for x, y in combinations(subset, 2)}\n",
    "        if len(B) > max_size:\n",
    "            max_size = len(B)\n",
    "            best_B = B\n",
    "    \n",
    "    print(f\"Максимальна кількість елементів у множині B: {max_size}\")\n",
    "    print(\"Приклад множини B:\", sorted(best_B))\n",
    "\n",
    "max_unique_sums()\n"
   ]
  },
  {
   "cell_type": "markdown",
   "metadata": {
    "id": "0obsbqhTxfsC"
   },
   "source": [
    "## 4 Комбінації з повтореннями"
   ]
  },
  {
   "cell_type": "markdown",
   "metadata": {
    "id": "yViCbQRgxfsC"
   },
   "source": [
    "### 4.1 Використовуючи бібліотеку `itertools`"
   ]
  },
  {
   "cell_type": "markdown",
   "source": [],
   "metadata": {
    "id": "2CU-UEmGWt78"
   }
  },
  {
   "cell_type": "code",
   "execution_count": null,
   "metadata": {
    "collapsed": true,
    "id": "zW00yJumxfsD"
   },
   "outputs": [],
   "source": [
    "from itertools import combinations_with_replacement"
   ]
  },
  {
   "cell_type": "code",
   "execution_count": null,
   "metadata": {
    "collapsed": true,
    "id": "9rIZzqWwxfsE"
   },
   "outputs": [],
   "source": [
    "A = {1, 2, 3}\n",
    "k = 2"
   ]
  },
  {
   "cell_type": "code",
   "execution_count": null,
   "metadata": {
    "id": "wJPzrThsxfsF"
   },
   "outputs": [],
   "source": [
    "# комбінації довжини k множини A\n",
    "choose_k = list(combinations_with_replacement(A,k))\n",
    "print(\"Комбінації довжини {} множини {}: {}\".format(k,A,choose_k))\n",
    "print(\"Кількість таких комбінацій: {}\".format(len(choose_k)  ))"
   ]
  },
  {
   "cell_type": "markdown",
   "metadata": {
    "id": "I5kcrZ7_xfsG"
   },
   "source": [
    "### 4.2 Задача\n",
    "Нехай $n$ - розмір множини, $k$ - розмір комбінацій.\n",
    "Виведіть всі можливі комбінації з повтореннями та порахуйте їх кількість для таких параметрів:\n",
    "- $n = 4, k = 2$\n",
    "- $n = 4, k = 3$\n",
    "- $n = 5, k = 2$"
   ]
  },
  {
   "cell_type": "code",
   "execution_count": 27,
   "metadata": {
    "id": "tKG4ImLKxfsH",
    "executionInfo": {
     "status": "ok",
     "timestamp": 1737311692778,
     "user_tz": -120,
     "elapsed": 211,
     "user": {
      "displayName": "Олена Дегтяр",
      "userId": "02379196706787407849"
     }
    }
   },
   "outputs": [],
   "source": [
    "# Аудиторна задача\n",
    "from itertools import combinations_with_replacement\n",
    "\n",
    "\n",
    " def foo(n, k):\n",
    "  A = [i for i in range(n)]\n",
    "  choose_k = list(combinations_with_replacement(A,k))\n",
    "  print(\"Комбінації довжини {} множини {}: {}\".format(k,A,choose_k))\n",
    "  print(\"Кількість таких комбінацій: {}\".format(len(choose_k)))\n",
    "\n",
    "a = [(4, 2), (4, 3), (5, 2)]\n",
    "\n",
    "for (n,k) in a:\n",
    "  foo(n, k)"
   ]
  },
  {
   "cell_type": "markdown",
   "metadata": {
    "id": "x2edMRrsxfsK"
   },
   "source": [
    "### 4.3 Задача\n",
    "Скільки існує 6-цифрових чисел, в яких дві однакові цифри не стоять поряд?\n",
    "\n",
    "**Зауваження 1.** В задачі фігурують 6-цифрові числа, тобто перша цифра не може дорівнювати $0$.\n",
    "\n",
    "**Зауваження 2.** Задача передбачає використання функції\n",
    "[product](https://docs.python.org/3/library/itertools.html#itertools.product)."
   ]
  },
  {
   "cell_type": "code",
   "execution_count": 28,
   "metadata": {
    "id": "_6j06TefxfsL",
    "executionInfo": {
     "status": "ok",
     "timestamp": 1737311754859,
     "user_tz": -120,
     "elapsed": 227,
     "user": {
      "displayName": "Олена Дегтяр",
      "userId": "02379196706787407849"
     }
    }
   },
   "outputs": [],
   "source": [
    "# Домашнє завдання, Задача 4\n",
    "from itertools import product\n",
    "\n",
    "def count_valid_numbers():\n",
    "    digits = '0123456789'\n",
    "    valid_numbers = 0\n",
    "    \n",
    "    for num in product(digits, repeat=6):\n",
    "        if num[0] != '0' and all(num[i] != num[i+1] for i in range(5)):\n",
    "            valid_numbers += 1\n",
    "    \n",
    "    print(f\"Кількість 6-цифрових чисел без сусідніх однакових цифр: {valid_numbers}\")\n",
    "\n",
    "count_valid_numbers()\n"
   ]
  }
 ],
 "metadata": {
  "kernelspec": {
   "display_name": "Python 3",
   "language": "python",
   "name": "python3"
  },
  "language_info": {
   "codemirror_mode": {
    "name": "ipython",
    "version": 3
   },
   "file_extension": ".py",
   "mimetype": "text/x-python",
   "name": "python",
   "nbconvert_exporter": "python",
   "pygments_lexer": "ipython3",
   "version": "3.6.1"
  },
  "colab": {
   "provenance": [],
   "toc_visible": true
  }
 },
 "nbformat": 4,
 "nbformat_minor": 0
}
