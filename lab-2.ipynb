{
 "cells": [
  {
   "cell_type": "markdown",
   "metadata": {
    "id": "MF7AufKcwq0B"
   },
   "source": [
    "# Лабораторне заняття №2\n",
    "Знайомство з бібліотекою **NumPy**."
   ]
  },
  {
   "cell_type": "code",
   "execution_count": 2,
   "metadata": {
    "collapsed": true,
    "id": "vJuoe1Oxwq0E",
    "executionInfo": {
     "status": "ok",
     "timestamp": 1738582441859,
     "user_tz": -120,
     "elapsed": 603,
     "user": {
      "displayName": "Олена Дегтяр",
      "userId": "02379196706787407849"
     }
    }
   },
   "outputs": [],
   "source": [
    "import numpy as np"
   ]
  },
  {
   "cell_type": "markdown",
   "metadata": {
    "id": "BGrHYZBBwq0G"
   },
   "source": [
    "## 1 Огляд функцій випадкового вибору"
   ]
  },
  {
   "cell_type": "markdown",
   "metadata": {
    "id": "dZHI7BlMwq0H"
   },
   "source": [
    "### 1.1 Функція *choice*\n",
    "Для детальної інформації див. [документацію](https://docs.scipy.org/doc/numpy-1.14.1/reference/generated/numpy.random.choice.html)."
   ]
  },
  {
   "cell_type": "code",
   "execution_count": null,
   "metadata": {
    "id": "bHc5UlOKwq0I",
    "outputId": "cee054de-71ab-489d-f51b-9a6077f5eba9"
   },
   "outputs": [
    {
     "name": "stdout",
     "output_type": "stream",
     "text": [
      "['bottom' '2' 'top' '2' 'top' 'top' 'top' 'top' 'top' 'top']\n"
     ]
    }
   ],
   "source": [
    "a = [\"top\", 2, \"bottom\", 4.5]\n",
    "size = 10\n",
    "probs = [0.4, 0.2, 0.1, 0.3]\n",
    "replace = True\n",
    "print(np.random.choice(a, size=size, replace=replace, p=probs))"
   ]
  },
  {
   "cell_type": "markdown",
   "metadata": {
    "id": "lyRXFSquwq0K"
   },
   "source": [
    "Згенеруйте одну випадкову цифру, вважаючи їх рівноймовірними."
   ]
  },
  {
   "cell_type": "code",
   "execution_count": null,
   "metadata": {
    "id": "kzXM-7Ifwq0L"
   },
   "outputs": [],
   "source": [
    "import numpy as np\n",
    "print(np.random.choice(10))"
   ]
  },
  {
   "cell_type": "markdown",
   "metadata": {
    "id": "bqyE7Opnwq0M"
   },
   "source": [
    "Згенеруйте випадкову матрицю $4 \\times 6$ із рівноймовірних цифр."
   ]
  },
  {
   "cell_type": "code",
   "execution_count": null,
   "metadata": {
    "id": "2pF6c-Z_wq0N"
   },
   "outputs": [],
   "source": [
    "import numpy as np\n",
    "print(np.random.choice(10, size=(4, 6)))"
   ]
  },
  {
   "cell_type": "markdown",
   "metadata": {
    "id": "6iXUlY1_wq0O"
   },
   "source": [
    "### 1.2 Функція *randint*\n",
    "Для детальної інформації див. [документацію](https://docs.scipy.org/doc/numpy-1.14.1/reference/generated/numpy.random.randint.html)."
   ]
  },
  {
   "cell_type": "code",
   "execution_count": 4,
   "metadata": {
    "colab": {
     "base_uri": "https://localhost:8080/"
    },
    "id": "xmHJX-uCwq0P",
    "executionInfo": {
     "status": "ok",
     "timestamp": 1738582449468,
     "user_tz": -120,
     "elapsed": 281,
     "user": {
      "displayName": "Олена Дегтяр",
      "userId": "02379196706787407849"
     }
    },
    "outputId": "9b3dcb3a-59ad-4eb1-a573-72474df73dad"
   },
   "outputs": [
    {
     "output_type": "stream",
     "name": "stdout",
     "text": [
      "[0 2 0 3 1 4 0 3 1 2]\n"
     ]
    }
   ],
   "source": [
    "low = 0\n",
    "high = 5\n",
    "size = 10\n",
    "print(np.random.randint(low=low, high=high, size=size))"
   ]
  },
  {
   "cell_type": "markdown",
   "metadata": {
    "id": "i51wEIIiwq0Q"
   },
   "source": [
    "Згенеруйте одну випадкову цифру."
   ]
  },
  {
   "cell_type": "code",
   "execution_count": null,
   "metadata": {
    "id": "DXVZI843wq0Q"
   },
   "outputs": [],
   "source": [
    "# Місце для Вашого коду\n",
    "print(np.random.randint(10))"
   ]
  },
  {
   "cell_type": "markdown",
   "metadata": {
    "id": "6IgmrAvBwq0R"
   },
   "source": [
    "Згенеруйте випадкову матрицю $4 \\times 5$ із двоцифрових чисел."
   ]
  },
  {
   "cell_type": "markdown",
   "source": [],
   "metadata": {
    "id": "vTfXM9N9mcBp"
   }
  },
  {
   "cell_type": "code",
   "execution_count": null,
   "metadata": {
    "id": "x_bBrKjwwq0S"
   },
   "outputs": [],
   "source": [
    "# Місце для Вашого коду\n",
    "print(np.random.randint(low = 10, high = 100, size=(4, 5)))"
   ]
  },
  {
   "cell_type": "markdown",
   "metadata": {
    "id": "1HBVf0JUwq0T"
   },
   "source": [
    "### 1.3 Функція *sample*\n",
    "Для детальної інформації див. [документацію](https://docs.scipy.org/doc/numpy-1.14.1/reference/generated/numpy.random.sample.html)."
   ]
  },
  {
   "cell_type": "code",
   "execution_count": null,
   "metadata": {
    "id": "RdsyrwNawq0T",
    "outputId": "bf1ac1da-aa3f-41da-996f-3a500b620cc8"
   },
   "outputs": [
    {
     "name": "stdout",
     "output_type": "stream",
     "text": [
      "0.3369603119037976\n"
     ]
    }
   ],
   "source": [
    "size = None\n",
    "print(np.random.sample(size=size))"
   ]
  },
  {
   "cell_type": "markdown",
   "metadata": {
    "id": "6-Pl2AFuwq0U"
   },
   "source": [
    "Згенеруйте випадкову матрицю $3 \\times 4$ із чисел з інтервалу $[0, 1)$."
   ]
  },
  {
   "cell_type": "code",
   "execution_count": 5,
   "metadata": {
    "colab": {
     "base_uri": "https://localhost:8080/"
    },
    "id": "A-kwYD5Uwq0V",
    "executionInfo": {
     "status": "ok",
     "timestamp": 1738582677120,
     "user_tz": -120,
     "elapsed": 342,
     "user": {
      "displayName": "Олена Дегтяр",
      "userId": "02379196706787407849"
     }
    },
    "outputId": "bd6d200a-00e6-461c-a6e2-46e0092ffc59"
   },
   "outputs": [
    {
     "output_type": "stream",
     "name": "stdout",
     "text": [
      "[[0.53274123 0.14190965 0.57338245 0.00227237]\n",
      " [0.6465066  0.49739318 0.59189703 0.84761254]\n",
      " [0.55511169 0.27834583 0.08197491 0.1472456 ]]\n"
     ]
    }
   ],
   "source": [
    "print(np.random.sample(size=(3,4)))"
   ]
  },
  {
   "cell_type": "markdown",
   "metadata": {
    "id": "tQDwMHozwq0X"
   },
   "source": [
    "### 1.4 Функція *shuffle*\n",
    "Для детальної інформації див. [документацію](https://docs.scipy.org/doc/numpy-1.14.1/reference/generated/numpy.random.shuffle.html)."
   ]
  },
  {
   "cell_type": "markdown",
   "source": [],
   "metadata": {
    "id": "uCXRCT-5MTLy"
   }
  },
  {
   "cell_type": "code",
   "execution_count": 7,
   "metadata": {
    "colab": {
     "base_uri": "https://localhost:8080/"
    },
    "id": "nHWhGV2Gwq0Y",
    "executionInfo": {
     "status": "ok",
     "timestamp": 1738582730819,
     "user_tz": -120,
     "elapsed": 291,
     "user": {
      "displayName": "Олена Дегтяр",
      "userId": "02379196706787407849"
     }
    },
    "outputId": "6a0e145f-682a-4d8b-e744-b3288056a805"
   },
   "outputs": [
    {
     "output_type": "stream",
     "name": "stdout",
     "text": [
      "[5 4 1 3 2 8 9 6 7 0]\n"
     ]
    }
   ],
   "source": [
    "x = np.arange(10)\n",
    "np.random.shuffle(x)\n",
    "print(x)"
   ]
  },
  {
   "cell_type": "markdown",
   "metadata": {
    "id": "CLM8-iqZwq0Y"
   },
   "source": [
    "Перетасуйте матрицю $M$."
   ]
  },
  {
   "cell_type": "code",
   "execution_count": 10,
   "metadata": {
    "colab": {
     "base_uri": "https://localhost:8080/"
    },
    "id": "M2AEluNxwq0Z",
    "executionInfo": {
     "status": "ok",
     "timestamp": 1738582749490,
     "user_tz": -120,
     "elapsed": 280,
     "user": {
      "displayName": "Олена Дегтяр",
      "userId": "02379196706787407849"
     }
    },
    "outputId": "1aff958d-e6ab-4416-f99d-2d7f8b60b940"
   },
   "outputs": [
    {
     "output_type": "stream",
     "name": "stdout",
     "text": [
      "[[ 0  1  2  3  4]\n",
      " [ 5  6  7  8  9]\n",
      " [10 11 12 13 14]\n",
      " [15 16 17 18 19]]\n"
     ]
    }
   ],
   "source": [
    "M = np.arange(20).reshape((4, 5))\n",
    "print(M)"
   ]
  },
  {
   "cell_type": "code",
   "execution_count": null,
   "metadata": {
    "id": "39f_Xy5Xwq0a",
    "outputId": "11d35e56-1e00-4cef-9be2-492db70e8c94"
   },
   "outputs": [
    {
     "name": "stdout",
     "output_type": "stream",
     "text": [
      "[[ 0  1  2  3  4]\n",
      " [15 16 17 18 19]\n",
      " [ 5  6  7  8  9]\n",
      " [10 11 12 13 14]]\n"
     ]
    }
   ],
   "source": [
    "# Приклад\n",
    "\n",
    "np.random.shuffle(M)\n",
    "print(M)"
   ]
  },
  {
   "cell_type": "markdown",
   "metadata": {
    "id": "rmTgFGjJwq0a"
   },
   "source": [
    "## 2 Відтворюваність результатів\n",
    "Можна задати початкове значення для генератора. Це зафіксує \"випадкову\" послідовність."
   ]
  },
  {
   "cell_type": "code",
   "execution_count": 11,
   "metadata": {
    "colab": {
     "base_uri": "https://localhost:8080/"
    },
    "id": "_ntlXH6Vwq0b",
    "executionInfo": {
     "status": "ok",
     "timestamp": 1738582776677,
     "user_tz": -120,
     "elapsed": 257,
     "user": {
      "displayName": "Олена Дегтяр",
      "userId": "02379196706787407849"
     }
    },
    "outputId": "7c8b23d5-2bc4-4362-9afb-7fbb860ce3b7"
   },
   "outputs": [
    {
     "output_type": "stream",
     "name": "stdout",
     "text": [
      "4\n"
     ]
    }
   ],
   "source": [
    "print(np.random.randint(10))"
   ]
  },
  {
   "cell_type": "code",
   "execution_count": null,
   "metadata": {
    "id": "bHaFjgI3wq0d",
    "outputId": "e44c5c6d-e6db-4c63-e3f8-6f27f5ab3638"
   },
   "outputs": [
    {
     "name": "stdout",
     "output_type": "stream",
     "text": [
      "[6 3 7 4 6 9 2 6 7 4]\n",
      "['l' 'l' 'l' 'b' 'r' 't' 'r' 'l' 'l' 'r']\n",
      "[6 3 7 4 6 9 2 6 7 4]\n",
      "['l' 'l' 'l' 'b' 'r' 't' 'r' 'l' 'l' 'r']\n"
     ]
    }
   ],
   "source": [
    "np.random.seed(42)\n",
    "print(np.random.randint(10, size=10))\n",
    "print(np.random.choice(['t', 'r', 'b', 'l'], size=10))"
   ]
  },
  {
   "cell_type": "markdown",
   "metadata": {
    "id": "sZsLao4swq0e"
   },
   "source": [
    "## 3 Монетка"
   ]
  },
  {
   "cell_type": "markdown",
   "metadata": {
    "id": "NBiHrwObwq0f"
   },
   "source": [
    "### 3.1 За допомогою функції *choice*"
   ]
  },
  {
   "cell_type": "code",
   "execution_count": 13,
   "metadata": {
    "colab": {
     "base_uri": "https://localhost:8080/"
    },
    "id": "fA0dkeCJwq0f",
    "executionInfo": {
     "status": "ok",
     "timestamp": 1738582832466,
     "user_tz": -120,
     "elapsed": 309,
     "user": {
      "displayName": "Олена Дегтяр",
      "userId": "02379196706787407849"
     }
    },
    "outputId": "199a76c3-326d-4b7a-bfcf-2205eb0dc89e"
   },
   "outputs": [
    {
     "output_type": "stream",
     "name": "stdout",
     "text": [
      "['T' 'H' 'T' 'T' 'H' 'H' 'H' 'H' 'H' 'H']\n"
     ]
    }
   ],
   "source": [
    "p=0.5\n",
    "n=10\n",
    "tosses=np.random.choice([\"H\",\"T\"],p=[p,1-p], size=n)\n",
    "print(tosses)"
   ]
  },
  {
   "cell_type": "code",
   "execution_count": 14,
   "metadata": {
    "colab": {
     "base_uri": "https://localhost:8080/"
    },
    "id": "xjN_EjG_wq0g",
    "executionInfo": {
     "status": "ok",
     "timestamp": 1738582845765,
     "user_tz": -120,
     "elapsed": 280,
     "user": {
      "displayName": "Олена Дегтяр",
      "userId": "02379196706787407849"
     }
    },
    "outputId": "d8af1e7f-31d5-42cf-e046-d1513f071c92"
   },
   "outputs": [
    {
     "output_type": "stream",
     "name": "stdout",
     "text": [
      "7 heads and 3 tails\n"
     ]
    }
   ],
   "source": [
    "heads = list(tosses).count(\"H\")\n",
    "tails = list(tosses).count(\"T\")\n",
    "\n",
    "print(\"{} heads and {} tails\".format(heads,tails))"
   ]
  },
  {
   "cell_type": "markdown",
   "metadata": {
    "id": "y3j29vYiwq0g"
   },
   "source": [
    "Просимулюйте $100$ підкидань монетки та підрахуйте кількість кожної із сторін."
   ]
  },
  {
   "cell_type": "code",
   "execution_count": null,
   "metadata": {
    "id": "JWpKpnqUwq0h",
    "outputId": "5dca78b4-95b4-42db-fe7b-085ce4c034a6"
   },
   "outputs": [
    {
     "name": "stdout",
     "output_type": "stream",
     "text": [
      "48 heads and 52 tails\n"
     ]
    }
   ],
   "source": [
    "# Місце для Вашого коду\n",
    "\n",
    "tosses = np.random.choice([\"H\",\"T\"], size=100)\n",
    "heads = list(tosses).count(\"H\")\n",
    "tails = list(tosses).count(\"T\")\n",
    "\n",
    "print(\"{} heads and {} tails\".format(heads,tails))"
   ]
  },
  {
   "cell_type": "markdown",
   "metadata": {
    "id": "fCAWX33Nwq0h"
   },
   "source": [
    "### 3.2 За допомогою функції *randint*\n",
    "Реалізуйте симуляцію підкидань монетки за допомогою функції **randint**. Просимулюйте $100$ підкидань монетки та підрахуйте кількість кожної із сторін."
   ]
  },
  {
   "cell_type": "code",
   "execution_count": null,
   "metadata": {
    "id": "SiVW291Wwq0i",
    "outputId": "dd1cf212-feb9-4c00-ff9c-3f087d78b789"
   },
   "outputs": [
    {
     "name": "stdout",
     "output_type": "stream",
     "text": [
      "52 heads and 48 tails\n"
     ]
    }
   ],
   "source": [
    "# Приклад\n",
    "\n",
    "tosses = np.random.randint(2, size=100)\n",
    "print(\"{} heads and {} tails\".format(sum(tosses == 1),sum(tosses == 0)))"
   ]
  },
  {
   "cell_type": "markdown",
   "metadata": {
    "id": "VwUV_Kjvwq0j"
   },
   "source": [
    "### 3.3 За допомогою функції *sample*\n",
    "Реалізуйте симуляцію підкидань монетки за допомогою функції **sample**. Просимулюйте $100$ підкидань монетки та підрахуйте кількість кожної із сторін."
   ]
  },
  {
   "cell_type": "code",
   "execution_count": null,
   "metadata": {
    "id": "WYazVDCHwq0j",
    "outputId": "0e908081-ec9e-44e2-bbea-95c8a15c3f29"
   },
   "outputs": [
    {
     "name": "stdout",
     "output_type": "stream",
     "text": [
      "50 heads and 50 tails\n"
     ]
    }
   ],
   "source": [
    "# Приклад\n",
    "\n",
    "tosses = np.round(np.random.sample(100))\n",
    "print(\"{} heads and {} tails\".format(sum(tosses == 1),sum(tosses == 0)))"
   ]
  },
  {
   "cell_type": "markdown",
   "metadata": {
    "id": "kyINZ0FUwq0k"
   },
   "source": [
    "### 3.4 Задача\n",
    "Знайдіть емпіричну ймовірність герба у симуляціях підкидання монетки $n = 10, 50, 100, 250, 500, 1000, 2500, 5000, 10000$ разів."
   ]
  },
  {
   "cell_type": "code",
   "execution_count": null,
   "metadata": {
    "id": "sTO0-MC8wq0k",
    "outputId": "64d9bace-3156-4ee4-ddf7-a7f30ce3eaff"
   },
   "outputs": [
    {
     "name": "stdout",
     "output_type": "stream",
     "text": [
      "n = 10  :  P(head) = 0.5,  P(tail) = 0.5\n",
      "n = 50  :  P(head) = 0.46,  P(tail) = 0.54\n",
      "n = 100  :  P(head) = 0.53,  P(tail) = 0.47\n",
      "n = 250  :  P(head) = 0.456,  P(tail) = 0.544\n",
      "n = 500  :  P(head) = 0.476,  P(tail) = 0.524\n",
      "n = 1000  :  P(head) = 0.502,  P(tail) = 0.498\n",
      "n = 2500  :  P(head) = 0.5004,  P(tail) = 0.4996\n",
      "n = 5000  :  P(head) = 0.5026,  P(tail) = 0.4974\n",
      "n = 10000  :  P(head) = 0.4983,  P(tail) = 0.5017\n"
     ]
    }
   ],
   "source": [
    "# Приклад\n",
    "\n",
    "params = [10, 50, 100, 250, 500, 1000, 2500, 5000, 10000]\n",
    "\n",
    "for n in params:\n",
    "    tosses = np.random.randint(2, size=n)\n",
    "    heads_prob = sum(tosses == 1) / n\n",
    "    tails_prob = sum(tosses == 0) / n\n",
    "    print('n = {}  :  P(head) = {},  P(tail) = {}'.format(n, heads_prob, tails_prob))"
   ]
  },
  {
   "cell_type": "markdown",
   "metadata": {
    "id": "flGOI6BVwq0k"
   },
   "source": [
    "## 4 Гральний кубик\n",
    "### 4.1 Реалізація симуляцій\n",
    "Реалізуйте симуляцію кидків грального кубика за допомогою функції **???**. Просимулюйте $60$ кидків кубика та підрахуйте кількість кожної із сторін."
   ]
  },
  {
   "cell_type": "code",
   "execution_count": null,
   "metadata": {
    "id": "HJAh_Chrwq0l"
   },
   "outputs": [],
   "source": [
    "# Місце для Вашого коду\n",
    "def find(arr, target):\n",
    "  counter = 0\n",
    "  for el in arr:\n",
    "    if el == target:\n",
    "      counter +=1\n",
    "  return counter\n",
    "t = np.random.randint(6, size=60)\n",
    "print(t)\n",
    "print(f'1 = {find(t, 0)} times, 2 = {find(t, 1)} times, 3 = {find(t, 2)} times')"
   ]
  },
  {
   "cell_type": "markdown",
   "metadata": {
    "id": "fqIPXlpnwq0l"
   },
   "source": [
    "### 4.2 Задача\n",
    "Знайдіть емпіричну ймовірність кожної сторони у симуляціях кидання грального кубика $n = 10, 50, 100, 250, 500, 1000, 2500, 5000, 10000$ разів."
   ]
  },
  {
   "cell_type": "code",
   "metadata": {
    "id": "FzMye6lJwq0m",
    "ExecuteTime": {
     "end_time": "2025-02-17T14:09:18.604836Z",
     "start_time": "2025-02-17T14:09:18.466249Z"
    }
   },
   "source": [
    "# В мене на ноудбуці не працює numpy але на компютері наче все працює\n",
    "import numpy as np\n",
    "\n",
    "params = [10, 50, 100, 250, 500, 1000, 2500, 5000, 10000]\n",
    "\n",
    "for n in params:\n",
    "    tosses = np.random.randint(1, 7, size=n)\n",
    "    probabilities = {i: np.sum(tosses == i) / n for i in range(1, 7)}\n",
    "    print(f'n = {n}  :  {probabilities}')\n"
   ],
   "outputs": [
    {
     "ename": "ModuleNotFoundError",
     "evalue": "No module named 'numpy'",
     "output_type": "error",
     "traceback": [
      "\u001B[0;31m---------------------------------------------------------------------------\u001B[0m",
      "\u001B[0;31mModuleNotFoundError\u001B[0m                       Traceback (most recent call last)",
      "Cell \u001B[0;32mIn[4], line 1\u001B[0m\n\u001B[0;32m----> 1\u001B[0m \u001B[38;5;28;01mimport\u001B[39;00m\u001B[38;5;250m \u001B[39m\u001B[38;5;21;01mnumpy\u001B[39;00m\u001B[38;5;250m \u001B[39m\u001B[38;5;28;01mas\u001B[39;00m\u001B[38;5;250m \u001B[39m\u001B[38;5;21;01mnp\u001B[39;00m\n\u001B[1;32m      3\u001B[0m params \u001B[38;5;241m=\u001B[39m [\u001B[38;5;241m10\u001B[39m, \u001B[38;5;241m50\u001B[39m, \u001B[38;5;241m100\u001B[39m, \u001B[38;5;241m250\u001B[39m, \u001B[38;5;241m500\u001B[39m, \u001B[38;5;241m1000\u001B[39m, \u001B[38;5;241m2500\u001B[39m, \u001B[38;5;241m5000\u001B[39m, \u001B[38;5;241m10000\u001B[39m]\n\u001B[1;32m      5\u001B[0m \u001B[38;5;28;01mfor\u001B[39;00m n \u001B[38;5;129;01min\u001B[39;00m params:\n",
      "\u001B[0;31mModuleNotFoundError\u001B[0m: No module named 'numpy'"
     ]
    }
   ],
   "execution_count": 4
  },
  {
   "cell_type": "markdown",
   "metadata": {
    "id": "Wyxeb5qBwq0m"
   },
   "source": [
    "## 5 Колода карт\n",
    "### 5.1 Реалізація"
   ]
  },
  {
   "cell_type": "code",
   "execution_count": null,
   "metadata": {
    "id": "D9ukAHcNwq0m",
    "outputId": "116a1b8d-884a-43fc-9f54-246675fed2ba"
   },
   "outputs": [
    {
     "name": "stdout",
     "output_type": "stream",
     "text": [
      "[('2', '♡'), ('2', '♣'), ('2', '♠'), ('2', '♢'), ('9', '♡'), ('9', '♣'), ('9', '♠'), ('9', '♢'), ('10', '♡'), ('10', '♣'), ('10', '♠'), ('10', '♢'), ('Q', '♡'), ('Q', '♣'), ('Q', '♠'), ('Q', '♢'), ('7', '♡'), ('7', '♣'), ('7', '♠'), ('7', '♢'), ('8', '♡'), ('8', '♣'), ('8', '♠'), ('8', '♢'), ('K', '♡'), ('K', '♣'), ('K', '♠'), ('K', '♢'), ('6', '♡'), ('6', '♣'), ('6', '♠'), ('6', '♢'), ('5', '♡'), ('5', '♣'), ('5', '♠'), ('5', '♢'), ('1', '♡'), ('1', '♣'), ('1', '♠'), ('1', '♢'), ('J', '♡'), ('J', '♣'), ('J', '♠'), ('J', '♢'), ('4', '♡'), ('4', '♣'), ('4', '♠'), ('4', '♢'), ('3', '♡'), ('3', '♣'), ('3', '♠'), ('3', '♢')]\n"
     ]
    }
   ],
   "source": [
    "# Визначимо номінали, масті та карти\n",
    "Ranks = {'1', '2', '3', '4', '5', '6', '7', '8', '9', '10', 'J', 'Q', 'K'}\n",
    "Suits = {'♢', '♠', '♣', '♡'}\n",
    "# Створимо колоду карт\n",
    "Cards = [(Rank, Suit) for Rank in Ranks for Suit in Suits]\n",
    "print(Cards)"
   ]
  },
  {
   "cell_type": "code",
   "execution_count": null,
   "metadata": {
    "id": "PKLc0EWQwq0n",
    "outputId": "2dc2e1bd-f0d8-431b-8cfc-a85e5af13d00"
   },
   "outputs": [
    {
     "name": "stdout",
     "output_type": "stream",
     "text": [
      "2♡, 2♣, 2♠, 2♢, 9♡, 9♣, 9♠, 9♢, 10♡, 10♣, 10♠, 10♢, Q♡, Q♣, Q♠, Q♢, 7♡, 7♣, 7♠, 7♢, 8♡, 8♣, 8♠, 8♢, K♡, K♣, K♠, K♢, 6♡, 6♣, 6♠, 6♢, 5♡, 5♣, 5♠, 5♢, 1♡, 1♣, 1♠, 1♢, J♡, J♣, J♠, J♢, 4♡, 4♣, 4♠, 4♢, 3♡, 3♣, 3♠, 3♢\n"
     ]
    }
   ],
   "source": [
    "# Інший вівід результату\n",
    "print(', '.join([(card[0] + card[1]) for card in Cards]))"
   ]
  },
  {
   "cell_type": "code",
   "execution_count": null,
   "metadata": {
    "id": "lxwXWwBkwq0n",
    "outputId": "28def143-a800-408c-9378-aa9b85968945"
   },
   "outputs": [
    {
     "name": "stdout",
     "output_type": "stream",
     "text": [
      "♡2, ♡9, ♡10, ♡Q, ♡7, ♡8, ♡K, ♡6, ♡5, ♡1, ♡J, ♡4, ♡3\n",
      "♣2, ♣9, ♣10, ♣Q, ♣7, ♣8, ♣K, ♣6, ♣5, ♣1, ♣J, ♣4, ♣3\n",
      "♠2, ♠9, ♠10, ♠Q, ♠7, ♠8, ♠K, ♠6, ♠5, ♠1, ♠J, ♠4, ♠3\n",
      "♢2, ♢9, ♢10, ♢Q, ♢7, ♢8, ♢K, ♢6, ♢5, ♢1, ♢J, ♢4, ♢3\n"
     ]
    }
   ],
   "source": [
    "# Або згрупувавши по мастях\n",
    "for suit in Suits:\n",
    "    print(\", \".join([(suit+rank) for rank in Ranks]))"
   ]
  },
  {
   "cell_type": "code",
   "execution_count": null,
   "metadata": {
    "id": "ZkcXViEVwq0o",
    "outputId": "9005e36e-ccfe-4cef-e1b5-2aad11386653"
   },
   "outputs": [
    {
     "name": "stdout",
     "output_type": "stream",
     "text": [
      "[('K', '♠'), ('4', '♡'), ('7', '♢'), ('2', '♠'), ('6', '♣'), ('3', '♡'), ('7', '♠'), ('J', '♠'), ('J', '♣'), ('1', '♡'), ('4', '♢'), ('Q', '♣'), ('6', '♢'), ('K', '♡'), ('10', '♡'), ('2', '♡'), ('K', '♢'), ('8', '♠'), ('5', '♣'), ('9', '♡'), ('10', '♢'), ('10', '♠'), ('4', '♠'), ('J', '♡'), ('8', '♢'), ('6', '♠'), ('5', '♡'), ('9', '♣'), ('J', '♢'), ('6', '♡'), ('3', '♢'), ('9', '♢'), ('Q', '♢'), ('3', '♠'), ('4', '♣'), ('10', '♣'), ('9', '♠'), ('2', '♢'), ('K', '♣'), ('8', '♡'), ('1', '♢'), ('8', '♣'), ('3', '♣'), ('7', '♡'), ('5', '♠'), ('Q', '♠'), ('7', '♣'), ('1', '♣'), ('5', '♢'), ('Q', '♡'), ('1', '♠'), ('2', '♣')]\n"
     ]
    }
   ],
   "source": [
    "# Перемішаємо колоду\n",
    "np.random.shuffle(Cards)\n",
    "\n",
    "print(Cards)"
   ]
  },
  {
   "cell_type": "markdown",
   "metadata": {
    "id": "KxtkDoiLwq0q"
   },
   "source": [
    "### 5.2 Задача\n",
    "Знайдіть емпіричну ймовірність карти парного числа (2, 4, 6, 8, 10) у симуляціях вибору однієї карти з колоди 52 карт $n = 10, 50, 100, 250, 500, 1000, 2500, 5000, 10000$ разів."
   ]
  },
  {
   "cell_type": "code",
   "execution_count": null,
   "metadata": {
    "id": "RN7nBe0Ewq0q"
   },
   "outputs": [],
   "source": [
    "import numpy as np\n",
    "\n",
    "params = [10, 50, 100, 250, 500, 1000, 2500, 5000, 10000]\n",
    "\n",
    "even_cards = {2, 4, 6, 8, 10}\n",
    "\n",
    "def is_even_card(card):\n",
    "    return card in even_cards\n",
    "\n",
    "for n in params:\n",
    "    chosen_cards = np.random.randint(1, 14, size=n)\n",
    "    even_prob = np.sum([is_even_card(card) for card in chosen_cards]) / n\n",
    "    print(f'n = {n}  :  P(even) = {even_prob}')\n",
    "\n"
   ]
  },
  {
   "cell_type": "markdown",
   "metadata": {
    "id": "Cz58jFxbwq0s"
   },
   "source": [
    "### 5.3 Задача\n",
    "Випадковим чином роздайте колоду з 52 карт чотирьом гравцям (кожному по 13 карт) так, щоб кожен з них мав 4 карти однієї масті та по 3 карти інших мастей. Наприклад, {♣5, ♣10, ♣8, ♣4, ♠4, ♠J, ♠3, ♢Q, ♢7, ♢K, ♡9, ♡1, ♡5}."
   ]
  },
  {
   "cell_type": "code",
   "execution_count": null,
   "metadata": {
    "collapsed": true,
    "id": "IRtOR_BNwq00"
   },
   "outputs": [],
   "source": [
    "import numpy as np\n",
    "import random\n",
    "\n",
    "suits = ['♣', '♠', '♢', '♡']\n",
    "ranks = [str(i) for i in range(2, 11)] + ['J', 'Q', 'K', 'A']\n",
    "deck = [suit + rank for suit in suits for rank in ranks]\n",
    "random.shuffle(deck)\n",
    "\n",
    "players = [[] for _ in range(4)]\n",
    "\n",
    "for i in range(4):\n",
    "    suit = suits[i]\n",
    "    player_suit_cards = [card for card in deck if suit in card][:4]\n",
    "    deck = [card for card in deck if card not in player_suit_cards]\n",
    "    other_suits = [s for s in suits if s != suit]\n",
    "    player_other_cards = []\n",
    "    \n",
    "    for other_suit in other_suits:\n",
    "        player_other_cards += [card for card in deck if other_suit in card][:3]\n",
    "        deck = [card for card in deck if card not in player_other_cards]\n",
    "    \n",
    "    players[i] = player_suit_cards + player_other_cards\n",
    "\n",
    "for i, player in enumerate(players, 1):\n",
    "    print(f' {i}: {player}')\n"
   ]
  }
 ],
 "metadata": {
  "kernelspec": {
   "display_name": "Python 3",
   "language": "python",
   "name": "python3"
  },
  "language_info": {
   "codemirror_mode": {
    "name": "ipython",
    "version": 3
   },
   "file_extension": ".py",
   "mimetype": "text/x-python",
   "name": "python",
   "nbconvert_exporter": "python",
   "pygments_lexer": "ipython3",
   "version": "3.6.1"
  },
  "colab": {
   "provenance": []
  }
 },
 "nbformat": 4,
 "nbformat_minor": 0
}
